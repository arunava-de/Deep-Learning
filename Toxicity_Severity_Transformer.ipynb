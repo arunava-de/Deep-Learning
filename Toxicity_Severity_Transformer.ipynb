{
 "cells": [
  {
   "cell_type": "code",
   "execution_count": null,
   "id": "fc236449",
   "metadata": {},
   "outputs": [],
   "source": [
    "import re\n",
    "import ast\n",
    "import time\n",
    "# import torch\n",
    "from tqdm import tqdm\n",
    "import tensorflow_hub as hub\n",
    "# import tensorflowtext\n",
    "# import matplotlib.pyplot as plt\n",
    "# from nltk.tokenize import word_tokenize\n",
    "tqdm.pandas()\n",
    "# from sklearn.pipeline import make_pipeline\n",
    "from sklearn.preprocessing import StandardScaler\n",
    "from sklearn.model_selection import train_test_split\n",
    "from sklearn.metrics import classification_report\n",
    "# from transformers import BertTokenizer, BertModel"
   ]
  },
  {
   "cell_type": "code",
   "execution_count": null,
   "id": "973a8c11",
   "metadata": {},
   "outputs": [],
   "source": [
    "toxic_classification_test = pd.read_csv(\"/kaggle/input/jigsaw-toxic-comment-classification-challenge/test.csv\")\n",
    "toxic_classification_test_labels = pd.read_csv(\"/kaggle/input/jigsaw-toxic-comment-classification-challenge/test_labels.csv\")\n",
    "toxic_classification_train = pd.read_csv(\"/kaggle/input/jigsaw-toxic-comment-classification-challenge/train.csv\")\n",
    "\n",
    "data_path = \"/kaggle/input/jigsaw-toxic-severity-rating/\"\n",
    "validation_data = pd.read_csv(data_path+\"validation_data.csv\")\n",
    "data = pd.read_csv(data_path+\"comments_to_score.csv\")"
   ]
  },
  {
   "cell_type": "code",
   "execution_count": null,
   "id": "97cbe047",
   "metadata": {},
   "outputs": [],
   "source": [
    "embed = hub.load(\"/kaggle/input/universalsentenceencoder4/\")"
   ]
  },
  {
   "cell_type": "code",
   "execution_count": null,
   "id": "74c64fca",
   "metadata": {},
   "outputs": [],
   "source": [
    "def clean(text):\n",
    "    text = text.replace(\"\\n\", \"\")\n",
    "    text = \" \".join(text.split())\n",
    "    text = re.sub(r'[^\\w\\s]','', text)\n",
    "    text = re.sub(r'[0-9]','', text)\n",
    "    return text"
   ]
  },
  {
   "cell_type": "code",
   "execution_count": null,
   "id": "55bdc505",
   "metadata": {},
   "outputs": [],
   "source": [
    "df_test = pd.merge(toxic_classification_test, toxic_classification_test_labels, how='left', on='id')\n",
    "df = pd.concat([toxic_classification_train, df_test])\n",
    "\n",
    "df = df[(df['toxic']!=-1) & (df['severe_toxic']!=-1) & (df['obscene']!=-1) & (df['threat']!=-1) & (df['insult']!=-1) & (df['identity_hate']!=-1)]\n",
    "df['toxicity'] = df[['toxic', 'severe_toxic', 'obscene', 'threat', 'insult', 'identity_hate']].sum(axis=1)\n",
    "df['toxicity'] = df['toxicity'].apply(lambda x: 4 if x in [4,5,6] else x)"
   ]
  },
  {
   "cell_type": "code",
   "execution_count": null,
   "id": "7d313923",
   "metadata": {},
   "outputs": [],
   "source": [
    "sampled_df = df.groupby('toxicity', group_keys=False).apply(lambda x: x.sample(min(len(x), 4000)))\n",
    "sampled_df['cleaned_text'] = sampled_df['comment_text'].progress_apply(clean)\n",
    "del(sampled_df['comment_text'])"
   ]
  },
  {
   "cell_type": "code",
   "execution_count": null,
   "id": "ff85b8fb",
   "metadata": {},
   "outputs": [],
   "source": [
    "start = time.time()\n",
    "use_vecs = embed(sampled_df.cleaned_text.values)['outputs'].numpy()\n",
    "end = time.time()\n",
    "\n",
    "print(\"Time taken to embed:\", end-start)"
   ]
  },
  {
   "cell_type": "code",
   "execution_count": null,
   "id": "339b8eb4",
   "metadata": {},
   "outputs": [],
   "source": [
    "# import xgboost as xgb\n",
    "import lightgbm as lgb"
   ]
  },
  {
   "cell_type": "code",
   "execution_count": null,
   "id": "135e8f4f",
   "metadata": {},
   "outputs": [],
   "source": [
    "X_train, X_test, y_train, y_test=train_test_split(use_vecs, sampled_df.toxicity.values, test_size=1/4, random_state=0)"
   ]
  },
  {
   "cell_type": "code",
   "execution_count": null,
   "id": "a409a69b",
   "metadata": {},
   "outputs": [],
   "source": [
    "model = lgb.LGBMClassifier(learning_rate=0.05,random_state=42)\n",
    "model.fit(X_train,y_train,eval_set=[(X_test,y_test),(X_train,y_train)],\n",
    "          verbose=20,eval_metric='logloss')"
   ]
  },
  {
   "cell_type": "code",
   "execution_count": null,
   "id": "d71b2781",
   "metadata": {},
   "outputs": [],
   "source": [
    "y_pred = model.predict(X_test)\n",
    "print(classification_report(y_test, y_pred))"
   ]
  },
  {
   "cell_type": "code",
   "execution_count": null,
   "id": "b83d090c",
   "metadata": {},
   "outputs": [],
   "source": [
    "def get_rank_score(vecs):\n",
    "#     vec = vectorizer.transform(corpus).toarray()\n",
    "    labels = model.predict(vecs)\n",
    "    prob_scores = model.predict_proba(vecs)\n",
    "    rank_scores = labels + np.max(prob_scores, axis=1)\n",
    "    return rank_scores"
   ]
  },
  {
   "cell_type": "code",
   "execution_count": null,
   "id": "e334af59",
   "metadata": {},
   "outputs": [],
   "source": [
    "data['text'] = data.text.apply(clean)\n",
    "data['bert_vec'] = data.text.apply(get_bert_embedding)\n",
    "data['score'] = get_rank_score(data.bert_vec.values)\n",
    "del(data['text'])\n",
    "del(data['bert_vec'])"
   ]
  },
  {
   "cell_type": "markdown",
   "id": "36f47246",
   "metadata": {},
   "source": [
    "## Final tuned model"
   ]
  },
  {
   "cell_type": "code",
   "execution_count": null,
   "id": "bf9b760c",
   "metadata": {},
   "outputs": [],
   "source": [
    "lgb_model = lgb.LGBMClassifier(learning_rate=0.1,num_leaves=70, \n",
    "                   min_data_in_leaf=600, max_depth=10, \n",
    "                   random_state=42, num_iterations=200)\n",
    "lgb_model.fit(use_vecs,sampled_df.toxicity.values)"
   ]
  }
 ],
 "metadata": {
  "kernelspec": {
   "display_name": "pytorch",
   "language": "python",
   "name": "pytorch"
  },
  "language_info": {
   "codemirror_mode": {
    "name": "ipython",
    "version": 3
   },
   "file_extension": ".py",
   "mimetype": "text/x-python",
   "name": "python",
   "nbconvert_exporter": "python",
   "pygments_lexer": "ipython3",
   "version": "3.7.3"
  }
 },
 "nbformat": 4,
 "nbformat_minor": 5
}
